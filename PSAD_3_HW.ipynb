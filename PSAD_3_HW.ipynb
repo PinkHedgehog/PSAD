{
  "nbformat": 4,
  "nbformat_minor": 0,
  "metadata": {
    "colab": {
      "name": "PSAD_3_HW.ipynb",
      "provenance": [],
      "collapsed_sections": [],
      "authorship_tag": "ABX9TyMoXNzQG/UDXr66epFInh04",
      "include_colab_link": true
    },
    "kernelspec": {
      "name": "python3",
      "display_name": "Python 3"
    }
  },
  "cells": [
    {
      "cell_type": "markdown",
      "metadata": {
        "id": "view-in-github",
        "colab_type": "text"
      },
      "source": [
        "<a href=\"https://colab.research.google.com/github/PinkHedgehog/PSAD/blob/main/PSAD_3_HW.ipynb\" target=\"_parent\"><img src=\"https://colab.research.google.com/assets/colab-badge.svg\" alt=\"Open In Colab\"/></a>"
      ]
    },
    {
      "cell_type": "code",
      "metadata": {
        "colab": {
          "base_uri": "https://localhost:8080/"
        },
        "id": "JEHc43mzRJuY",
        "outputId": "34e2a489-58d9-44d8-d46a-27fdb0f2edfc"
      },
      "source": [
        "!pip install permute\n",
        "!pip install permutation_test\n",
        "!pip install cryptorandom\n",
        "!pip install arch"
      ],
      "execution_count": 1,
      "outputs": [
        {
          "output_type": "stream",
          "text": [
            "Collecting permute\n",
            "\u001b[?25l  Downloading https://files.pythonhosted.org/packages/28/8c/5486d8e5f025ce3c0429270bfa57b6321ee4bca8febf3fa6b87bfd59f5ad/permute-0.1a5-py3-none-any.whl (153kB)\n",
            "\r\u001b[K     |██▏                             | 10kB 16.5MB/s eta 0:00:01\r\u001b[K     |████▎                           | 20kB 23.0MB/s eta 0:00:01\r\u001b[K     |██████▍                         | 30kB 12.4MB/s eta 0:00:01\r\u001b[K     |████████▌                       | 40kB 8.1MB/s eta 0:00:01\r\u001b[K     |██████████▊                     | 51kB 8.8MB/s eta 0:00:01\r\u001b[K     |████████████▉                   | 61kB 8.0MB/s eta 0:00:01\r\u001b[K     |███████████████                 | 71kB 8.5MB/s eta 0:00:01\r\u001b[K     |█████████████████               | 81kB 9.4MB/s eta 0:00:01\r\u001b[K     |███████████████████▏            | 92kB 8.1MB/s eta 0:00:01\r\u001b[K     |█████████████████████▍          | 102kB 8.1MB/s eta 0:00:01\r\u001b[K     |███████████████████████▌        | 112kB 8.1MB/s eta 0:00:01\r\u001b[K     |█████████████████████████▋      | 122kB 8.1MB/s eta 0:00:01\r\u001b[K     |███████████████████████████▊    | 133kB 8.1MB/s eta 0:00:01\r\u001b[K     |█████████████████████████████▉  | 143kB 8.1MB/s eta 0:00:01\r\u001b[K     |████████████████████████████████| 153kB 8.1MB/s \n",
            "\u001b[?25hRequirement already satisfied: scipy in /usr/local/lib/python3.6/dist-packages (from permute) (1.4.1)\n",
            "Requirement already satisfied: numpy in /usr/local/lib/python3.6/dist-packages (from permute) (1.19.5)\n",
            "Installing collected packages: permute\n",
            "Successfully installed permute-0.1a5\n",
            "Collecting permutation_test\n",
            "  Downloading https://files.pythonhosted.org/packages/aa/69/0e9e474bcf163bcdd229ed8cfd6af36a49cc3794f7e9da4d4ce2c6b28c59/permutation_test-0.18.tar.gz\n",
            "Requirement already satisfied: numpy in /usr/local/lib/python3.6/dist-packages (from permutation_test) (1.19.5)\n",
            "Requirement already satisfied: pandas in /usr/local/lib/python3.6/dist-packages (from permutation_test) (1.1.5)\n",
            "Requirement already satisfied: python-dateutil>=2.7.3 in /usr/local/lib/python3.6/dist-packages (from pandas->permutation_test) (2.8.1)\n",
            "Requirement already satisfied: pytz>=2017.2 in /usr/local/lib/python3.6/dist-packages (from pandas->permutation_test) (2018.9)\n",
            "Requirement already satisfied: six>=1.5 in /usr/local/lib/python3.6/dist-packages (from python-dateutil>=2.7.3->pandas->permutation_test) (1.15.0)\n",
            "Building wheels for collected packages: permutation-test\n",
            "  Building wheel for permutation-test (setup.py) ... \u001b[?25l\u001b[?25hdone\n",
            "  Created wheel for permutation-test: filename=permutation_test-0.18-cp36-none-any.whl size=17050 sha256=bf72f549fea050bb8c411cd713ac4f001aac97c727f2ece52858954f603a9391\n",
            "  Stored in directory: /root/.cache/pip/wheels/4b/c4/06/f648bab9c8da5c61a4d5ff4b8f2ccdea7718aaac84708142b2\n",
            "Successfully built permutation-test\n",
            "Installing collected packages: permutation-test\n",
            "Successfully installed permutation-test-0.18\n",
            "Collecting cryptorandom\n",
            "  Downloading https://files.pythonhosted.org/packages/b1/15/fdfdf14422e45b14b84ec60a726a0376dcd59967fea7f844ac416e429e31/cryptorandom-0.2-py3-none-any.whl\n",
            "Requirement already satisfied: scipy in /usr/local/lib/python3.6/dist-packages (from cryptorandom) (1.4.1)\n",
            "Requirement already satisfied: numpy in /usr/local/lib/python3.6/dist-packages (from cryptorandom) (1.19.5)\n",
            "Installing collected packages: cryptorandom\n",
            "Successfully installed cryptorandom-0.2\n",
            "Collecting arch\n",
            "\u001b[?25l  Downloading https://files.pythonhosted.org/packages/d0/22/e12e588309552a0ba8a47b7a5dbbbe19bb3abcb07f2090a73d7ccddff0d1/arch-4.16.1.tar.gz (862kB)\n",
            "\u001b[K     |████████████████████████████████| 870kB 8.9MB/s \n",
            "\u001b[?25h  Installing build dependencies ... \u001b[?25l\u001b[?25hdone\n",
            "  Getting requirements to build wheel ... \u001b[?25l\u001b[?25hdone\n",
            "    Preparing wheel metadata ... \u001b[?25l\u001b[?25hdone\n",
            "Requirement already satisfied: cython>=0.29.14 in /usr/local/lib/python3.6/dist-packages (from arch) (0.29.21)\n",
            "Collecting property-cached>=1.6.4\n",
            "  Downloading https://files.pythonhosted.org/packages/5c/6c/94d8e520b20a2502e508e1c558f338061cf409cbee78fd6a3a5c6ae812bd/property_cached-1.6.4-py2.py3-none-any.whl\n",
            "Requirement already satisfied: scipy>=1.2.3 in /usr/local/lib/python3.6/dist-packages (from arch) (1.4.1)\n",
            "Requirement already satisfied: numpy>=1.14 in /usr/local/lib/python3.6/dist-packages (from arch) (1.19.5)\n",
            "Requirement already satisfied: pandas>=0.23 in /usr/local/lib/python3.6/dist-packages (from arch) (1.1.5)\n",
            "Requirement already satisfied: statsmodels>=0.10 in /usr/local/lib/python3.6/dist-packages (from arch) (0.10.2)\n",
            "Requirement already satisfied: pytz>=2017.2 in /usr/local/lib/python3.6/dist-packages (from pandas>=0.23->arch) (2018.9)\n",
            "Requirement already satisfied: python-dateutil>=2.7.3 in /usr/local/lib/python3.6/dist-packages (from pandas>=0.23->arch) (2.8.1)\n",
            "Requirement already satisfied: patsy>=0.4.0 in /usr/local/lib/python3.6/dist-packages (from statsmodels>=0.10->arch) (0.5.1)\n",
            "Requirement already satisfied: six>=1.5 in /usr/local/lib/python3.6/dist-packages (from python-dateutil>=2.7.3->pandas>=0.23->arch) (1.15.0)\n",
            "Building wheels for collected packages: arch\n",
            "  Building wheel for arch (PEP 517) ... \u001b[?25l\u001b[?25hdone\n",
            "  Created wheel for arch: filename=arch-4.16.1-cp36-cp36m-linux_x86_64.whl size=1179494 sha256=b00dd2a9d032978f3803fff016d9f3ec7fff783191e78af04dc73ca95180f2bf\n",
            "  Stored in directory: /root/.cache/pip/wheels/a9/99/58/8fb4c930bff0a8c4deff117a09a7de19c2001099298976fbb1\n",
            "Successfully built arch\n",
            "Installing collected packages: property-cached, arch\n",
            "Successfully installed arch-4.16.1 property-cached-1.6.4\n"
          ],
          "name": "stdout"
        }
      ]
    },
    {
      "cell_type": "code",
      "metadata": {
        "colab": {
          "base_uri": "https://localhost:8080/"
        },
        "id": "Gn-N2NTVRTvv",
        "outputId": "b89289cd-ebc3-49f5-f601-1662b93625b6"
      },
      "source": [
        "import numpy as np\n",
        "import pandas as pd\n",
        "import matplotlib.pylab as plt\n",
        "\n",
        "import scipy.stats as st\n",
        "from statsmodels.distributions.empirical_distribution import ECDF\n",
        "from statsmodels.stats.descriptivestats import sign_test\n",
        "\n",
        "import seaborn as sns\n",
        "from permutation_test import permutationtest\n",
        "\n",
        "# перестановочный критерий\n",
        "from permute.core import one_sample, two_sample\n",
        "\n",
        "# критерий знаков\n",
        "from statsmodels.stats.descriptivestats import sign_test\n",
        "\n",
        "# для перестановок\n",
        "import itertools\n",
        "\n",
        "# бутстрап\n",
        "from arch.bootstrap import IIDBootstrap"
      ],
      "execution_count": 2,
      "outputs": [
        {
          "output_type": "stream",
          "text": [
            "/usr/local/lib/python3.6/dist-packages/statsmodels/tools/_testing.py:19: FutureWarning: pandas.util.testing is deprecated. Use the functions in the public API at pandas.testing instead.\n",
            "  import pandas.util.testing as tm\n"
          ],
          "name": "stderr"
        }
      ]
    },
    {
      "cell_type": "code",
      "metadata": {
        "colab": {
          "base_uri": "https://localhost:8080/"
        },
        "id": "6Eqn_r1ARc2D",
        "outputId": "d630ed7d-b1d3-449c-eed7-c52c8471ec41"
      },
      "source": [
        "!wget 'https://raw.githubusercontent.com/Intelligent-Systems-Phystech/psad/master/hometask/sem3/ivanov.as%40phystech.edu.csv'\n",
        "data = pd.read_csv('ivanov.as@phystech.edu.csv', index_col=False, sep='\\n', header=None, names=['main'])"
      ],
      "execution_count": 3,
      "outputs": [
        {
          "output_type": "stream",
          "text": [
            "--2021-02-22 19:45:11--  https://raw.githubusercontent.com/Intelligent-Systems-Phystech/psad/master/hometask/sem3/ivanov.as%40phystech.edu.csv\n",
            "Resolving raw.githubusercontent.com (raw.githubusercontent.com)... 185.199.108.133, 185.199.109.133, 185.199.110.133, ...\n",
            "Connecting to raw.githubusercontent.com (raw.githubusercontent.com)|185.199.108.133|:443... connected.\n",
            "HTTP request sent, awaiting response... 200 OK\n",
            "Length: 507 [text/plain]\n",
            "Saving to: ‘ivanov.as@phystech.edu.csv’\n",
            "\n",
            "ivanov.as@phystech. 100%[===================>]     507  --.-KB/s    in 0s      \n",
            "\n",
            "2021-02-22 19:45:11 (18.9 MB/s) - ‘ivanov.as@phystech.edu.csv’ saved [507/507]\n",
            "\n"
          ],
          "name": "stdout"
        }
      ]
    },
    {
      "cell_type": "code",
      "metadata": {
        "colab": {
          "base_uri": "https://localhost:8080/"
        },
        "id": "0nFjpz-2RkPP",
        "outputId": "aaa227a3-281b-4b44-f4da-739dce1dccb4"
      },
      "source": [
        "x = data['main'].to_numpy()\n",
        "x"
      ],
      "execution_count": 7,
      "outputs": [
        {
          "output_type": "execute_result",
          "data": {
            "text/plain": [
              "array([ 0.3420223 ,  0.52040325,  0.68021049,  2.25186405, -0.67461519,\n",
              "        1.05275691,  0.07581489,  1.28951735,  0.82613319,  1.28261662,\n",
              "       -1.01276512,  0.70099388, -2.12149084,  2.23327602, -1.10941478,\n",
              "       -0.07106067,  1.47503218, -1.5392323 , -0.64438543,  0.18661226])"
            ]
          },
          "metadata": {
            "tags": []
          },
          "execution_count": 7
        }
      ]
    },
    {
      "cell_type": "code",
      "metadata": {
        "colab": {
          "base_uri": "https://localhost:8080/",
          "height": 352
        },
        "id": "QV9v3OBETMQ8",
        "outputId": "d69010f3-705b-4cb5-d01a-be5d2c664eba"
      },
      "source": [
        "plt.hist(x)"
      ],
      "execution_count": 8,
      "outputs": [
        {
          "output_type": "execute_result",
          "data": {
            "text/plain": [
              "(array([1., 1., 2., 2., 1., 3., 4., 3., 1., 2.]),\n",
              " array([-2.12149084, -1.68415535, -1.24681986, -0.80948437, -0.37214889,\n",
              "         0.0651866 ,  0.50252209,  0.93985758,  1.37719307,  1.81452856,\n",
              "         2.25186405]),\n",
              " <a list of 10 Patch objects>)"
            ]
          },
          "metadata": {
            "tags": []
          },
          "execution_count": 8
        },
        {
          "output_type": "display_data",
          "data": {
            "image/png": "[encoded data removed]",
            "text/plain": [
              "<Figure size 432x288 with 1 Axes>"
            ]
          },
          "metadata": {
            "tags": [],
            "needs_background": "light"
          }
        }
      ]
    },
    {
      "cell_type": "code",
      "metadata": {
        "colab": {
          "base_uri": "https://localhost:8080/",
          "height": 295
        },
        "id": "i7W2ZuslTZL6",
        "outputId": "b0a01e94-7212-4d0a-f31f-54d43f10b933"
      },
      "source": [
        "_ = st.probplot(x, plot=plt)"
      ],
      "execution_count": 9,
      "outputs": [
        {
          "output_type": "display_data",
          "data": {
            "image/png": "[encoded data removed]",
            "text/plain": [
              "<Figure size 432x288 with 1 Axes>"
            ]
          },
          "metadata": {
            "tags": [],
            "needs_background": "light"
          }
        }
      ]
    },
    {
      "cell_type": "code",
      "metadata": {
        "colab": {
          "base_uri": "https://localhost:8080/"
        },
        "id": "F_MYKcWsVEMC",
        "outputId": "f3ca77f0-3ef4-471b-fa75-31745a76bf3a"
      },
      "source": [
        "2 ** 20"
      ],
      "execution_count": 11,
      "outputs": [
        {
          "output_type": "execute_result",
          "data": {
            "text/plain": [
              "1048576"
            ]
          },
          "metadata": {
            "tags": []
          },
          "execution_count": 11
        }
      ]
    },
    {
      "cell_type": "code",
      "metadata": {
        "colab": {
          "base_uri": "https://localhost:8080/"
        },
        "id": "u22M9N5kVr8Y",
        "outputId": "18c78394-7e9f-4881-81df-a18c7c7d32f7"
      },
      "source": [
        "t = (x - 0.5)\n",
        "T = np.sum(t)\n",
        "T"
      ],
      "execution_count": 12,
      "outputs": [
        {
          "output_type": "execute_result",
          "data": {
            "text/plain": [
              "-4.2557109441251875"
            ]
          },
          "metadata": {
            "tags": []
          },
          "execution_count": 12
        }
      ]
    },
    {
      "cell_type": "code",
      "metadata": {
        "colab": {
          "base_uri": "https://localhost:8080/"
        },
        "id": "_5hMhZ-cWpXU",
        "outputId": "b02b8c22-97ad-4f4d-ee59-27f8a20f856e"
      },
      "source": [
        "count = 0\n",
        "good = 0\n",
        "for v in itertools.product([-1, 1], repeat=20):\n",
        "    count +=1\n",
        "    stat = np.dot(t, v)\n",
        "    if abs(stat)>=abs(T):\n",
        "        good+=1\n",
        "    \n",
        "        \n",
        "print(good/count)\n",
        "print(count)"
      ],
      "execution_count": 13,
      "outputs": [
        {
          "output_type": "stream",
          "text": [
            "0.4337444305419922\n",
            "1048576\n"
          ],
          "name": "stdout"
        }
      ]
    },
    {
      "cell_type": "code",
      "metadata": {
        "colab": {
          "base_uri": "https://localhost:8080/"
        },
        "id": "I-U-HxivW63e",
        "outputId": "933c4e39-11d0-43a0-a114-123dabf59d31"
      },
      "source": [
        "print(good)"
      ],
      "execution_count": 14,
      "outputs": [
        {
          "output_type": "stream",
          "text": [
            "454814\n"
          ],
          "name": "stdout"
        }
      ]
    },
    {
      "cell_type": "code",
      "metadata": {
        "colab": {
          "base_uri": "https://localhost:8080/"
        },
        "id": "MI4RCslKXTa2",
        "outputId": "148e7d87-32fc-4582-97c0-6f66bb18ab84"
      },
      "source": [
        "bs = IIDBootstrap(x)\n",
        "bs.conf_int(np.mean, 1000, method='basic')"
      ],
      "execution_count": 15,
      "outputs": [
        {
          "output_type": "execute_result",
          "data": {
            "text/plain": [
              "array([[-0.20822621],\n",
              "       [ 0.82201931]])"
            ]
          },
          "metadata": {
            "tags": []
          },
          "execution_count": 15
        }
      ]
    },
    {
      "cell_type": "code",
      "metadata": {
        "colab": {
          "base_uri": "https://localhost:8080/",
          "height": 52
        },
        "id": "WL8kc8W-XaA8",
        "outputId": "a44bfdb0-38bd-4d46-deda-98ff243fa28d"
      },
      "source": [
        "rs = np.random.RandomState(0)\n",
        "\n",
        "idx = rs.randint(low=0, high=20, size=(1000, len(data)))\n",
        "results_median = []\n",
        "results_mean = []\n",
        "for i in idx:\n",
        "    sample = x[i]\n",
        "    results_mean.append(np.mean(sample))\n",
        "    results_median.append(np.median(sample))\n",
        "\n",
        "display(np.percentile(results_mean, [2.5, 97.5]))\n",
        "display(np.percentile(results_median, [2.5, 97.5]))"
      ],
      "execution_count": 17,
      "outputs": [
        {
          "output_type": "display_data",
          "data": {
            "text/plain": [
              "array([-0.21841101,  0.81078859])"
            ]
          },
          "metadata": {
            "tags": []
          }
        },
        {
          "output_type": "display_data",
          "data": {
            "text/plain": [
              "array([-0.35772305,  1.05275691])"
            ]
          },
          "metadata": {
            "tags": []
          }
        }
      ]
    },
    {
      "cell_type": "code",
      "metadata": {
        "colab": {
          "base_uri": "https://localhost:8080/"
        },
        "id": "oB8Rdx1qX8Vj",
        "outputId": "25b0a586-c0bc-42ae-a453-fbb152a43be4"
      },
      "source": [
        "sign_test(x)"
      ],
      "execution_count": 19,
      "outputs": [
        {
          "output_type": "execute_result",
          "data": {
            "text/plain": [
              "(3.0, 0.2631759643554687)"
            ]
          },
          "metadata": {
            "tags": []
          },
          "execution_count": 19
        }
      ]
    },
    {
      "cell_type": "code",
      "metadata": {
        "colab": {
          "base_uri": "https://localhost:8080/"
        },
        "id": "kUCICezKYLid",
        "outputId": "5251e221-59b2-4743-e116-61ede1539856"
      },
      "source": [
        "st.wilcoxon(x)"
      ],
      "execution_count": 20,
      "outputs": [
        {
          "output_type": "execute_result",
          "data": {
            "text/plain": [
              "WilcoxonResult(statistic=73.0, pvalue=0.23222559205012872)"
            ]
          },
          "metadata": {
            "tags": []
          },
          "execution_count": 20
        }
      ]
    }
  ]
}